{
 "cells": [
  {
   "cell_type": "code",
   "execution_count": 11,
   "metadata": {},
   "outputs": [],
   "source": [
    "import pandas as pd\n",
    "import requests\n",
    "\n",
    "from datetime import datetime \n",
    "\n",
    "import time \n"
   ]
  },
  {
   "cell_type": "code",
   "execution_count": 2,
   "metadata": {},
   "outputs": [],
   "source": [
    "from subgraphkit import SubgraphKit\n",
    "\n",
    "sgk = SubgraphKit()"
   ]
  },
  {
   "cell_type": "code",
   "execution_count": 3,
   "metadata": {},
   "outputs": [
    {
     "data": {
      "text/html": [
       "<div>\n",
       "<style scoped>\n",
       "    .dataframe tbody tr th:only-of-type {\n",
       "        vertical-align: middle;\n",
       "    }\n",
       "\n",
       "    .dataframe tbody tr th {\n",
       "        vertical-align: top;\n",
       "    }\n",
       "\n",
       "    .dataframe thead th {\n",
       "        text-align: right;\n",
       "    }\n",
       "</style>\n",
       "<table border=\"1\" class=\"dataframe\">\n",
       "  <thead>\n",
       "    <tr style=\"text-align: right;\">\n",
       "      <th></th>\n",
       "      <th>subgraph_type</th>\n",
       "      <th>network</th>\n",
       "      <th>protocol</th>\n",
       "      <th>deployment</th>\n",
       "      <th>url_slug</th>\n",
       "      <th>url</th>\n",
       "    </tr>\n",
       "  </thead>\n",
       "  <tbody>\n",
       "    <tr>\n",
       "      <th>3</th>\n",
       "      <td>exchanges</td>\n",
       "      <td>ethereum</td>\n",
       "      <td>balancer-v2</td>\n",
       "      <td>balancer-v2-ethereum</td>\n",
       "      <td>balancer-v2-ethereum</td>\n",
       "      <td>https://api.thegraph.com/subgraphs/name/messar...</td>\n",
       "    </tr>\n",
       "    <tr>\n",
       "      <th>5</th>\n",
       "      <td>exchanges</td>\n",
       "      <td>ethereum</td>\n",
       "      <td>bancor-v3</td>\n",
       "      <td>bancor-v3-ethereum</td>\n",
       "      <td>bancor-v3-ethereum</td>\n",
       "      <td>https://api.thegraph.com/subgraphs/name/messar...</td>\n",
       "    </tr>\n",
       "    <tr>\n",
       "      <th>12</th>\n",
       "      <td>exchanges</td>\n",
       "      <td>ethereum</td>\n",
       "      <td>curve</td>\n",
       "      <td>curve-ethereum</td>\n",
       "      <td>curve-finance-ethereum</td>\n",
       "      <td>https://api.thegraph.com/subgraphs/name/messar...</td>\n",
       "    </tr>\n",
       "    <tr>\n",
       "      <th>23</th>\n",
       "      <td>exchanges</td>\n",
       "      <td>ethereum</td>\n",
       "      <td>saddle-finance</td>\n",
       "      <td>saddle-finance-ethereum</td>\n",
       "      <td>saddle-finance-ethereum</td>\n",
       "      <td>https://api.thegraph.com/subgraphs/name/messar...</td>\n",
       "    </tr>\n",
       "    <tr>\n",
       "      <th>36</th>\n",
       "      <td>exchanges</td>\n",
       "      <td>ethereum</td>\n",
       "      <td>sushiswap</td>\n",
       "      <td>sushiswap-ethereum</td>\n",
       "      <td>sushiswap-ethereum</td>\n",
       "      <td>https://api.thegraph.com/subgraphs/name/messar...</td>\n",
       "    </tr>\n",
       "    <tr>\n",
       "      <th>42</th>\n",
       "      <td>exchanges</td>\n",
       "      <td>ethereum</td>\n",
       "      <td>uniswap-v2</td>\n",
       "      <td>uniswap-v2-ethereum</td>\n",
       "      <td>uniswap-v2-ethereum</td>\n",
       "      <td>https://api.thegraph.com/subgraphs/name/messar...</td>\n",
       "    </tr>\n",
       "    <tr>\n",
       "      <th>44</th>\n",
       "      <td>exchanges</td>\n",
       "      <td>ethereum</td>\n",
       "      <td>uniswap-v3</td>\n",
       "      <td>uniswap-v3-ethereum</td>\n",
       "      <td>uniswap-v3-ethereum</td>\n",
       "      <td>https://api.thegraph.com/subgraphs/name/messar...</td>\n",
       "    </tr>\n",
       "  </tbody>\n",
       "</table>\n",
       "</div>"
      ],
      "text/plain": [
       "   subgraph_type   network        protocol               deployment  \\\n",
       "3      exchanges  ethereum     balancer-v2     balancer-v2-ethereum   \n",
       "5      exchanges  ethereum       bancor-v3       bancor-v3-ethereum   \n",
       "12     exchanges  ethereum           curve           curve-ethereum   \n",
       "23     exchanges  ethereum  saddle-finance  saddle-finance-ethereum   \n",
       "36     exchanges  ethereum       sushiswap       sushiswap-ethereum   \n",
       "42     exchanges  ethereum      uniswap-v2      uniswap-v2-ethereum   \n",
       "44     exchanges  ethereum      uniswap-v3      uniswap-v3-ethereum   \n",
       "\n",
       "                   url_slug                                                url  \n",
       "3      balancer-v2-ethereum  https://api.thegraph.com/subgraphs/name/messar...  \n",
       "5        bancor-v3-ethereum  https://api.thegraph.com/subgraphs/name/messar...  \n",
       "12   curve-finance-ethereum  https://api.thegraph.com/subgraphs/name/messar...  \n",
       "23  saddle-finance-ethereum  https://api.thegraph.com/subgraphs/name/messar...  \n",
       "36       sushiswap-ethereum  https://api.thegraph.com/subgraphs/name/messar...  \n",
       "42      uniswap-v2-ethereum  https://api.thegraph.com/subgraphs/name/messar...  \n",
       "44      uniswap-v3-ethereum  https://api.thegraph.com/subgraphs/name/messar...  "
      ]
     },
     "execution_count": 3,
     "metadata": {},
     "output_type": "execute_result"
    }
   ],
   "source": [
    "# -- list of dexs \n",
    "deployments = sgk.deployments\n",
    "# -- filter df for exchanges on ethereum\n",
    "dex_eth = deployments[ (deployments['subgraph_type'] == 'exchanges') & (deployments['network'] == 'ethereum') ]\n",
    "dex_eth"
   ]
  },
  {
   "cell_type": "code",
   "execution_count": 4,
   "metadata": {},
   "outputs": [],
   "source": [
    "# -- function to get all swaps for a dex\n",
    "def get_swaps(dex_slug, timestamp):\n",
    "  # -- get dex object \n",
    "  dex = sgk.get_subgraph(dex_slug)\n",
    "\n",
    "  # -- get swaps \n",
    "  dex.swaps.filter(timestamp__lt= timestamp ).order_by('-timestamp').select_fields('timestamp', 'id', 'hash', 'blockNumber', 'to', 'from', 'token_in__symbol', 'token_out__symbol', 'amountIn', 'amountOut', 'amountInUSD', 'amountOutUSD', 'pool_id').all()\n",
    "\n",
    "  # -- get last timestamoe \n",
    "  last_ts = dex.df['timestamp'].iloc[-1]\n",
    "\n",
    "  return dex.df, last_ts"
   ]
  },
  {
   "cell_type": "code",
   "execution_count": 20,
   "metadata": {},
   "outputs": [],
   "source": [
    "def get_all_swaps(dex_slug, after_timestamp = 0, folderpath = '', before_timestamp = 0):\n",
    "  # -- get current timestamp\n",
    "  if before_timestamp == 0:\n",
    "    current_ts = int(time.time())\n",
    "  else: \n",
    "    current_ts = before_timestamp\n",
    "\n",
    "  # -- get first set of swaps \n",
    "  df, last_ts = get_swaps(dex_slug, current_ts)\n",
    "\n",
    "  # -- convert timestamp to datetime\n",
    "  dt = datetime.fromtimestamp(int(time.time())).strftime('%Y-%m-%d')\n",
    "\n",
    "  # -- add protocol columns \n",
    "  dex_info = dex_slug.rsplit('-', 1)\n",
    "\n",
    "  # -- create protocol and chain columns\n",
    "  df['protocol'] = dex_info[0]\n",
    "  df['chain'] = dex_info[1]\n",
    "\n",
    "  # -- save to csv\n",
    "  df.to_csv(folderpath + dex_slug + '_'+ dt + '.csv', index=False)\n",
    "  del df \n",
    "\n",
    "  # -- loop until we reach the after_timestamp\n",
    "  while last_ts > after_timestamp:\n",
    "    # -- get swaps\n",
    "    df, last_ts = get_swaps(dex_slug, last_ts)\n",
    "\n",
    "    # -- convert timestamp to datetime\n",
    "    dt = datetime.fromtimestamp(int(time.time())).strftime('%Y-%m-%d')\n",
    "\n",
    "    # -- add protocol columns \n",
    "    dex_info = dex_slug.rsplit('-', 1)\n",
    "\n",
    "    # -- create protocol and chain columns\n",
    "    df['protocol'] = dex_info[0]\n",
    "    df['chain'] = dex_info[1]\n",
    "\n",
    "    # -- save to csv\n",
    "    df.to_csv(folderpath + dex_slug + '_' + dt + '.csv', index=False)\n",
    "\n",
    "    del df \n",
    "\n",
    "    # -- break loop if len less than million\n",
    "    if len(df) < 1000000:\n",
    "      break\n"
   ]
  },
  {
   "cell_type": "code",
   "execution_count": 24,
   "metadata": {},
   "outputs": [
    {
     "data": {
      "text/plain": [
       "['balancer-v2-ethereum',\n",
       " 'bancor-v3-ethereum',\n",
       " 'curve-ethereum',\n",
       " 'saddle-finance-ethereum',\n",
       " 'sushiswap-ethereum',\n",
       " 'uniswap-v2-ethereum',\n",
       " 'uniswap-v3-ethereum']"
      ]
     },
     "execution_count": 24,
     "metadata": {},
     "output_type": "execute_result"
    }
   ],
   "source": [
    "list(dex_eth['deployment'])"
   ]
  },
  {
   "cell_type": "code",
   "execution_count": 27,
   "metadata": {},
   "outputs": [],
   "source": [
    "dexs = list(dex_eth['deployment'])\n",
    "dexs.remove('saddle-finance-ethereum')"
   ]
  },
  {
   "cell_type": "code",
   "execution_count": 28,
   "metadata": {},
   "outputs": [
    {
     "name": "stdout",
     "output_type": "stream",
     "text": [
      "uniswap-v3-ethereum\n",
      "uniswap-v2-ethereum\n",
      "sushiswap-ethereum\n",
      "curve-ethereum\n",
      "bancor-v3-ethereum\n",
      "balancer-v2-ethereum\n"
     ]
    }
   ],
   "source": [
    "# -- get all swaps for all dexs\n",
    "for dex in reversed(dexs):\n",
    "  print(dex)\n",
    "  if dex == 'uniswap-v3-ethereum':\n",
    "    get_all_swaps(dex, folderpath = 'eth-swaps/', before_timestamp = 1663337267) # -- hardcode bc did as test first \n",
    "  else: \n",
    "    get_all_swaps(dex, folderpath = 'eth-swaps/')"
   ]
  },
  {
   "cell_type": "code",
   "execution_count": null,
   "metadata": {},
   "outputs": [],
   "source": []
  }
 ],
 "metadata": {
  "kernelspec": {
   "display_name": "Python 3.10.5 ('messari-djt')",
   "language": "python",
   "name": "python3"
  },
  "language_info": {
   "codemirror_mode": {
    "name": "ipython",
    "version": 3
   },
   "file_extension": ".py",
   "mimetype": "text/x-python",
   "name": "python",
   "nbconvert_exporter": "python",
   "pygments_lexer": "ipython3",
   "version": "3.10.5"
  },
  "orig_nbformat": 4,
  "vscode": {
   "interpreter": {
    "hash": "03d05940a5bf8349b073acd823df2c000a7c6001e8328acf41a1e4a681ef3e6a"
   }
  }
 },
 "nbformat": 4,
 "nbformat_minor": 2
}
